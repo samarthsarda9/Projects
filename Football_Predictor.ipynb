{
  "nbformat": 4,
  "nbformat_minor": 0,
  "metadata": {
    "colab": {
      "provenance": [],
      "authorship_tag": "ABX9TyPqTnXOVZ59jPhEY6txuJ3G",
      "include_colab_link": true
    },
    "kernelspec": {
      "name": "python3",
      "display_name": "Python 3"
    },
    "language_info": {
      "name": "python"
    }
  },
  "cells": [
    {
      "cell_type": "markdown",
      "metadata": {
        "id": "view-in-github",
        "colab_type": "text"
      },
      "source": [
        "<a href=\"https://colab.research.google.com/github/samarthsarda9/Projects/blob/main/Football_Predictor.ipynb\" target=\"_parent\"><img src=\"https://colab.research.google.com/assets/colab-badge.svg\" alt=\"Open In Colab\"/></a>"
      ]
    },
    {
      "cell_type": "code",
      "execution_count": 1,
      "metadata": {
        "colab": {
          "base_uri": "https://localhost:8080/"
        },
        "id": "I4XlXyrMxqbn",
        "outputId": "70d97ed0-9d4b-436b-96d0-2cfdea8eefdf",
        "collapsed": true
      },
      "outputs": [
        {
          "output_type": "stream",
          "name": "stdout",
          "text": [
            "Fetching data for the 2023 season...\n",
            "Scraping data for BUF (2023)\n"
          ]
        },
        {
          "output_type": "stream",
          "name": "stderr",
          "text": [
            "<ipython-input-1-d57a6a12a954>:45: FutureWarning: Passing literal html to 'read_html' is deprecated and will be removed in a future version. To read from a literal string, wrap it in a 'StringIO' object.\n",
            "  matches = pd.read_html(team_data.text, match=\"Schedule & Game Results Table\")[0]\n"
          ]
        },
        {
          "output_type": "stream",
          "name": "stdout",
          "text": [
            "Scraping data for MIA (2023)\n"
          ]
        },
        {
          "output_type": "stream",
          "name": "stderr",
          "text": [
            "<ipython-input-1-d57a6a12a954>:45: FutureWarning: Passing literal html to 'read_html' is deprecated and will be removed in a future version. To read from a literal string, wrap it in a 'StringIO' object.\n",
            "  matches = pd.read_html(team_data.text, match=\"Schedule & Game Results Table\")[0]\n"
          ]
        },
        {
          "output_type": "stream",
          "name": "stdout",
          "text": [
            "Scraping data for NYJ (2023)\n"
          ]
        },
        {
          "output_type": "stream",
          "name": "stderr",
          "text": [
            "<ipython-input-1-d57a6a12a954>:45: FutureWarning: Passing literal html to 'read_html' is deprecated and will be removed in a future version. To read from a literal string, wrap it in a 'StringIO' object.\n",
            "  matches = pd.read_html(team_data.text, match=\"Schedule & Game Results Table\")[0]\n"
          ]
        },
        {
          "output_type": "stream",
          "name": "stdout",
          "text": [
            "Scraping data for NWE (2023)\n"
          ]
        },
        {
          "output_type": "stream",
          "name": "stderr",
          "text": [
            "<ipython-input-1-d57a6a12a954>:45: FutureWarning: Passing literal html to 'read_html' is deprecated and will be removed in a future version. To read from a literal string, wrap it in a 'StringIO' object.\n",
            "  matches = pd.read_html(team_data.text, match=\"Schedule & Game Results Table\")[0]\n"
          ]
        },
        {
          "output_type": "stream",
          "name": "stdout",
          "text": [
            "Scraping data for RAV (2023)\n"
          ]
        },
        {
          "output_type": "stream",
          "name": "stderr",
          "text": [
            "<ipython-input-1-d57a6a12a954>:45: FutureWarning: Passing literal html to 'read_html' is deprecated and will be removed in a future version. To read from a literal string, wrap it in a 'StringIO' object.\n",
            "  matches = pd.read_html(team_data.text, match=\"Schedule & Game Results Table\")[0]\n"
          ]
        },
        {
          "output_type": "stream",
          "name": "stdout",
          "text": [
            "Scraping data for CLE (2023)\n"
          ]
        },
        {
          "output_type": "stream",
          "name": "stderr",
          "text": [
            "<ipython-input-1-d57a6a12a954>:45: FutureWarning: Passing literal html to 'read_html' is deprecated and will be removed in a future version. To read from a literal string, wrap it in a 'StringIO' object.\n",
            "  matches = pd.read_html(team_data.text, match=\"Schedule & Game Results Table\")[0]\n"
          ]
        },
        {
          "output_type": "stream",
          "name": "stdout",
          "text": [
            "Scraping data for PIT (2023)\n"
          ]
        },
        {
          "output_type": "stream",
          "name": "stderr",
          "text": [
            "<ipython-input-1-d57a6a12a954>:45: FutureWarning: Passing literal html to 'read_html' is deprecated and will be removed in a future version. To read from a literal string, wrap it in a 'StringIO' object.\n",
            "  matches = pd.read_html(team_data.text, match=\"Schedule & Game Results Table\")[0]\n"
          ]
        },
        {
          "output_type": "stream",
          "name": "stdout",
          "text": [
            "Scraping data for CIN (2023)\n"
          ]
        },
        {
          "output_type": "stream",
          "name": "stderr",
          "text": [
            "<ipython-input-1-d57a6a12a954>:45: FutureWarning: Passing literal html to 'read_html' is deprecated and will be removed in a future version. To read from a literal string, wrap it in a 'StringIO' object.\n",
            "  matches = pd.read_html(team_data.text, match=\"Schedule & Game Results Table\")[0]\n"
          ]
        },
        {
          "output_type": "stream",
          "name": "stdout",
          "text": [
            "Scraping data for HTX (2023)\n"
          ]
        },
        {
          "output_type": "stream",
          "name": "stderr",
          "text": [
            "<ipython-input-1-d57a6a12a954>:45: FutureWarning: Passing literal html to 'read_html' is deprecated and will be removed in a future version. To read from a literal string, wrap it in a 'StringIO' object.\n",
            "  matches = pd.read_html(team_data.text, match=\"Schedule & Game Results Table\")[0]\n"
          ]
        },
        {
          "output_type": "stream",
          "name": "stdout",
          "text": [
            "Scraping data for JAX (2023)\n"
          ]
        },
        {
          "output_type": "stream",
          "name": "stderr",
          "text": [
            "<ipython-input-1-d57a6a12a954>:45: FutureWarning: Passing literal html to 'read_html' is deprecated and will be removed in a future version. To read from a literal string, wrap it in a 'StringIO' object.\n",
            "  matches = pd.read_html(team_data.text, match=\"Schedule & Game Results Table\")[0]\n"
          ]
        },
        {
          "output_type": "stream",
          "name": "stdout",
          "text": [
            "Scraping data for CLT (2023)\n"
          ]
        },
        {
          "output_type": "stream",
          "name": "stderr",
          "text": [
            "<ipython-input-1-d57a6a12a954>:45: FutureWarning: Passing literal html to 'read_html' is deprecated and will be removed in a future version. To read from a literal string, wrap it in a 'StringIO' object.\n",
            "  matches = pd.read_html(team_data.text, match=\"Schedule & Game Results Table\")[0]\n"
          ]
        },
        {
          "output_type": "stream",
          "name": "stdout",
          "text": [
            "Scraping data for OTI (2023)\n"
          ]
        },
        {
          "output_type": "stream",
          "name": "stderr",
          "text": [
            "<ipython-input-1-d57a6a12a954>:45: FutureWarning: Passing literal html to 'read_html' is deprecated and will be removed in a future version. To read from a literal string, wrap it in a 'StringIO' object.\n",
            "  matches = pd.read_html(team_data.text, match=\"Schedule & Game Results Table\")[0]\n"
          ]
        },
        {
          "output_type": "stream",
          "name": "stdout",
          "text": [
            "Scraping data for KAN (2023)\n"
          ]
        },
        {
          "output_type": "stream",
          "name": "stderr",
          "text": [
            "<ipython-input-1-d57a6a12a954>:45: FutureWarning: Passing literal html to 'read_html' is deprecated and will be removed in a future version. To read from a literal string, wrap it in a 'StringIO' object.\n",
            "  matches = pd.read_html(team_data.text, match=\"Schedule & Game Results Table\")[0]\n"
          ]
        },
        {
          "output_type": "stream",
          "name": "stdout",
          "text": [
            "Scraping data for RAI (2023)\n"
          ]
        },
        {
          "output_type": "stream",
          "name": "stderr",
          "text": [
            "<ipython-input-1-d57a6a12a954>:45: FutureWarning: Passing literal html to 'read_html' is deprecated and will be removed in a future version. To read from a literal string, wrap it in a 'StringIO' object.\n",
            "  matches = pd.read_html(team_data.text, match=\"Schedule & Game Results Table\")[0]\n"
          ]
        },
        {
          "output_type": "stream",
          "name": "stdout",
          "text": [
            "Scraping data for DEN (2023)\n"
          ]
        },
        {
          "output_type": "stream",
          "name": "stderr",
          "text": [
            "<ipython-input-1-d57a6a12a954>:45: FutureWarning: Passing literal html to 'read_html' is deprecated and will be removed in a future version. To read from a literal string, wrap it in a 'StringIO' object.\n",
            "  matches = pd.read_html(team_data.text, match=\"Schedule & Game Results Table\")[0]\n"
          ]
        },
        {
          "output_type": "stream",
          "name": "stdout",
          "text": [
            "Scraping data for SDG (2023)\n"
          ]
        },
        {
          "output_type": "stream",
          "name": "stderr",
          "text": [
            "<ipython-input-1-d57a6a12a954>:45: FutureWarning: Passing literal html to 'read_html' is deprecated and will be removed in a future version. To read from a literal string, wrap it in a 'StringIO' object.\n",
            "  matches = pd.read_html(team_data.text, match=\"Schedule & Game Results Table\")[0]\n"
          ]
        },
        {
          "output_type": "stream",
          "name": "stdout",
          "text": [
            "Scraping data for DAL (2023)\n"
          ]
        },
        {
          "output_type": "stream",
          "name": "stderr",
          "text": [
            "<ipython-input-1-d57a6a12a954>:45: FutureWarning: Passing literal html to 'read_html' is deprecated and will be removed in a future version. To read from a literal string, wrap it in a 'StringIO' object.\n",
            "  matches = pd.read_html(team_data.text, match=\"Schedule & Game Results Table\")[0]\n"
          ]
        },
        {
          "output_type": "stream",
          "name": "stdout",
          "text": [
            "Scraping data for PHI (2023)\n"
          ]
        },
        {
          "output_type": "stream",
          "name": "stderr",
          "text": [
            "<ipython-input-1-d57a6a12a954>:45: FutureWarning: Passing literal html to 'read_html' is deprecated and will be removed in a future version. To read from a literal string, wrap it in a 'StringIO' object.\n",
            "  matches = pd.read_html(team_data.text, match=\"Schedule & Game Results Table\")[0]\n"
          ]
        },
        {
          "output_type": "stream",
          "name": "stdout",
          "text": [
            "Scraping data for NYG (2023)\n"
          ]
        },
        {
          "output_type": "stream",
          "name": "stderr",
          "text": [
            "<ipython-input-1-d57a6a12a954>:45: FutureWarning: Passing literal html to 'read_html' is deprecated and will be removed in a future version. To read from a literal string, wrap it in a 'StringIO' object.\n",
            "  matches = pd.read_html(team_data.text, match=\"Schedule & Game Results Table\")[0]\n"
          ]
        },
        {
          "output_type": "stream",
          "name": "stdout",
          "text": [
            "Scraping data for WAS (2023)\n"
          ]
        },
        {
          "output_type": "stream",
          "name": "stderr",
          "text": [
            "<ipython-input-1-d57a6a12a954>:45: FutureWarning: Passing literal html to 'read_html' is deprecated and will be removed in a future version. To read from a literal string, wrap it in a 'StringIO' object.\n",
            "  matches = pd.read_html(team_data.text, match=\"Schedule & Game Results Table\")[0]\n"
          ]
        },
        {
          "output_type": "stream",
          "name": "stdout",
          "text": [
            "Scraping data for DET (2023)\n"
          ]
        },
        {
          "output_type": "stream",
          "name": "stderr",
          "text": [
            "<ipython-input-1-d57a6a12a954>:45: FutureWarning: Passing literal html to 'read_html' is deprecated and will be removed in a future version. To read from a literal string, wrap it in a 'StringIO' object.\n",
            "  matches = pd.read_html(team_data.text, match=\"Schedule & Game Results Table\")[0]\n"
          ]
        },
        {
          "output_type": "stream",
          "name": "stdout",
          "text": [
            "Scraping data for GNB (2023)\n"
          ]
        },
        {
          "output_type": "stream",
          "name": "stderr",
          "text": [
            "<ipython-input-1-d57a6a12a954>:45: FutureWarning: Passing literal html to 'read_html' is deprecated and will be removed in a future version. To read from a literal string, wrap it in a 'StringIO' object.\n",
            "  matches = pd.read_html(team_data.text, match=\"Schedule & Game Results Table\")[0]\n"
          ]
        },
        {
          "output_type": "stream",
          "name": "stdout",
          "text": [
            "Scraping data for MIN (2023)\n"
          ]
        },
        {
          "output_type": "stream",
          "name": "stderr",
          "text": [
            "<ipython-input-1-d57a6a12a954>:45: FutureWarning: Passing literal html to 'read_html' is deprecated and will be removed in a future version. To read from a literal string, wrap it in a 'StringIO' object.\n",
            "  matches = pd.read_html(team_data.text, match=\"Schedule & Game Results Table\")[0]\n"
          ]
        },
        {
          "output_type": "stream",
          "name": "stdout",
          "text": [
            "Scraping data for CHI (2023)\n"
          ]
        },
        {
          "output_type": "stream",
          "name": "stderr",
          "text": [
            "<ipython-input-1-d57a6a12a954>:45: FutureWarning: Passing literal html to 'read_html' is deprecated and will be removed in a future version. To read from a literal string, wrap it in a 'StringIO' object.\n",
            "  matches = pd.read_html(team_data.text, match=\"Schedule & Game Results Table\")[0]\n"
          ]
        },
        {
          "output_type": "stream",
          "name": "stdout",
          "text": [
            "Scraping data for TAM (2023)\n"
          ]
        },
        {
          "output_type": "stream",
          "name": "stderr",
          "text": [
            "<ipython-input-1-d57a6a12a954>:45: FutureWarning: Passing literal html to 'read_html' is deprecated and will be removed in a future version. To read from a literal string, wrap it in a 'StringIO' object.\n",
            "  matches = pd.read_html(team_data.text, match=\"Schedule & Game Results Table\")[0]\n"
          ]
        },
        {
          "output_type": "stream",
          "name": "stdout",
          "text": [
            "Scraping data for NOR (2023)\n"
          ]
        },
        {
          "output_type": "stream",
          "name": "stderr",
          "text": [
            "<ipython-input-1-d57a6a12a954>:45: FutureWarning: Passing literal html to 'read_html' is deprecated and will be removed in a future version. To read from a literal string, wrap it in a 'StringIO' object.\n",
            "  matches = pd.read_html(team_data.text, match=\"Schedule & Game Results Table\")[0]\n"
          ]
        },
        {
          "output_type": "stream",
          "name": "stdout",
          "text": [
            "Scraping data for ATL (2023)\n"
          ]
        },
        {
          "output_type": "stream",
          "name": "stderr",
          "text": [
            "<ipython-input-1-d57a6a12a954>:45: FutureWarning: Passing literal html to 'read_html' is deprecated and will be removed in a future version. To read from a literal string, wrap it in a 'StringIO' object.\n",
            "  matches = pd.read_html(team_data.text, match=\"Schedule & Game Results Table\")[0]\n"
          ]
        },
        {
          "output_type": "stream",
          "name": "stdout",
          "text": [
            "Scraping data for CAR (2023)\n"
          ]
        },
        {
          "output_type": "stream",
          "name": "stderr",
          "text": [
            "<ipython-input-1-d57a6a12a954>:45: FutureWarning: Passing literal html to 'read_html' is deprecated and will be removed in a future version. To read from a literal string, wrap it in a 'StringIO' object.\n",
            "  matches = pd.read_html(team_data.text, match=\"Schedule & Game Results Table\")[0]\n"
          ]
        },
        {
          "output_type": "stream",
          "name": "stdout",
          "text": [
            "Scraping data for SFO (2023)\n"
          ]
        },
        {
          "output_type": "stream",
          "name": "stderr",
          "text": [
            "<ipython-input-1-d57a6a12a954>:45: FutureWarning: Passing literal html to 'read_html' is deprecated and will be removed in a future version. To read from a literal string, wrap it in a 'StringIO' object.\n",
            "  matches = pd.read_html(team_data.text, match=\"Schedule & Game Results Table\")[0]\n"
          ]
        },
        {
          "output_type": "stream",
          "name": "stdout",
          "text": [
            "Scraping data for RAM (2023)\n"
          ]
        },
        {
          "output_type": "stream",
          "name": "stderr",
          "text": [
            "<ipython-input-1-d57a6a12a954>:45: FutureWarning: Passing literal html to 'read_html' is deprecated and will be removed in a future version. To read from a literal string, wrap it in a 'StringIO' object.\n",
            "  matches = pd.read_html(team_data.text, match=\"Schedule & Game Results Table\")[0]\n"
          ]
        },
        {
          "output_type": "stream",
          "name": "stdout",
          "text": [
            "Scraping data for SEA (2023)\n"
          ]
        },
        {
          "output_type": "stream",
          "name": "stderr",
          "text": [
            "<ipython-input-1-d57a6a12a954>:45: FutureWarning: Passing literal html to 'read_html' is deprecated and will be removed in a future version. To read from a literal string, wrap it in a 'StringIO' object.\n",
            "  matches = pd.read_html(team_data.text, match=\"Schedule & Game Results Table\")[0]\n"
          ]
        },
        {
          "output_type": "stream",
          "name": "stdout",
          "text": [
            "Scraping data for CRD (2023)\n"
          ]
        },
        {
          "output_type": "stream",
          "name": "stderr",
          "text": [
            "<ipython-input-1-d57a6a12a954>:45: FutureWarning: Passing literal html to 'read_html' is deprecated and will be removed in a future version. To read from a literal string, wrap it in a 'StringIO' object.\n",
            "  matches = pd.read_html(team_data.text, match=\"Schedule & Game Results Table\")[0]\n"
          ]
        },
        {
          "output_type": "stream",
          "name": "stdout",
          "text": [
            "Fetching data for the 2022 season...\n",
            "Scraping data for BUF (2022)\n"
          ]
        },
        {
          "output_type": "stream",
          "name": "stderr",
          "text": [
            "<ipython-input-1-d57a6a12a954>:45: FutureWarning: Passing literal html to 'read_html' is deprecated and will be removed in a future version. To read from a literal string, wrap it in a 'StringIO' object.\n",
            "  matches = pd.read_html(team_data.text, match=\"Schedule & Game Results Table\")[0]\n"
          ]
        },
        {
          "output_type": "stream",
          "name": "stdout",
          "text": [
            "Scraping data for MIA (2022)\n"
          ]
        },
        {
          "output_type": "stream",
          "name": "stderr",
          "text": [
            "<ipython-input-1-d57a6a12a954>:45: FutureWarning: Passing literal html to 'read_html' is deprecated and will be removed in a future version. To read from a literal string, wrap it in a 'StringIO' object.\n",
            "  matches = pd.read_html(team_data.text, match=\"Schedule & Game Results Table\")[0]\n"
          ]
        },
        {
          "output_type": "stream",
          "name": "stdout",
          "text": [
            "Scraping data for NWE (2022)\n"
          ]
        },
        {
          "output_type": "stream",
          "name": "stderr",
          "text": [
            "<ipython-input-1-d57a6a12a954>:45: FutureWarning: Passing literal html to 'read_html' is deprecated and will be removed in a future version. To read from a literal string, wrap it in a 'StringIO' object.\n",
            "  matches = pd.read_html(team_data.text, match=\"Schedule & Game Results Table\")[0]\n"
          ]
        },
        {
          "output_type": "stream",
          "name": "stdout",
          "text": [
            "Scraping data for NYJ (2022)\n"
          ]
        },
        {
          "output_type": "stream",
          "name": "stderr",
          "text": [
            "<ipython-input-1-d57a6a12a954>:45: FutureWarning: Passing literal html to 'read_html' is deprecated and will be removed in a future version. To read from a literal string, wrap it in a 'StringIO' object.\n",
            "  matches = pd.read_html(team_data.text, match=\"Schedule & Game Results Table\")[0]\n"
          ]
        },
        {
          "output_type": "stream",
          "name": "stdout",
          "text": [
            "Scraping data for CIN (2022)\n"
          ]
        },
        {
          "output_type": "stream",
          "name": "stderr",
          "text": [
            "<ipython-input-1-d57a6a12a954>:45: FutureWarning: Passing literal html to 'read_html' is deprecated and will be removed in a future version. To read from a literal string, wrap it in a 'StringIO' object.\n",
            "  matches = pd.read_html(team_data.text, match=\"Schedule & Game Results Table\")[0]\n"
          ]
        },
        {
          "output_type": "stream",
          "name": "stdout",
          "text": [
            "Scraping data for RAV (2022)\n"
          ]
        },
        {
          "output_type": "stream",
          "name": "stderr",
          "text": [
            "<ipython-input-1-d57a6a12a954>:45: FutureWarning: Passing literal html to 'read_html' is deprecated and will be removed in a future version. To read from a literal string, wrap it in a 'StringIO' object.\n",
            "  matches = pd.read_html(team_data.text, match=\"Schedule & Game Results Table\")[0]\n"
          ]
        },
        {
          "output_type": "stream",
          "name": "stdout",
          "text": [
            "Scraping data for PIT (2022)\n"
          ]
        },
        {
          "output_type": "stream",
          "name": "stderr",
          "text": [
            "<ipython-input-1-d57a6a12a954>:45: FutureWarning: Passing literal html to 'read_html' is deprecated and will be removed in a future version. To read from a literal string, wrap it in a 'StringIO' object.\n",
            "  matches = pd.read_html(team_data.text, match=\"Schedule & Game Results Table\")[0]\n"
          ]
        },
        {
          "output_type": "stream",
          "name": "stdout",
          "text": [
            "Scraping data for CLE (2022)\n"
          ]
        },
        {
          "output_type": "stream",
          "name": "stderr",
          "text": [
            "<ipython-input-1-d57a6a12a954>:45: FutureWarning: Passing literal html to 'read_html' is deprecated and will be removed in a future version. To read from a literal string, wrap it in a 'StringIO' object.\n",
            "  matches = pd.read_html(team_data.text, match=\"Schedule & Game Results Table\")[0]\n"
          ]
        },
        {
          "output_type": "stream",
          "name": "stdout",
          "text": [
            "Scraping data for JAX (2022)\n"
          ]
        },
        {
          "output_type": "stream",
          "name": "stderr",
          "text": [
            "<ipython-input-1-d57a6a12a954>:45: FutureWarning: Passing literal html to 'read_html' is deprecated and will be removed in a future version. To read from a literal string, wrap it in a 'StringIO' object.\n",
            "  matches = pd.read_html(team_data.text, match=\"Schedule & Game Results Table\")[0]\n"
          ]
        },
        {
          "output_type": "stream",
          "name": "stdout",
          "text": [
            "Scraping data for OTI (2022)\n"
          ]
        },
        {
          "output_type": "stream",
          "name": "stderr",
          "text": [
            "<ipython-input-1-d57a6a12a954>:45: FutureWarning: Passing literal html to 'read_html' is deprecated and will be removed in a future version. To read from a literal string, wrap it in a 'StringIO' object.\n",
            "  matches = pd.read_html(team_data.text, match=\"Schedule & Game Results Table\")[0]\n"
          ]
        },
        {
          "output_type": "stream",
          "name": "stdout",
          "text": [
            "Scraping data for CLT (2022)\n"
          ]
        },
        {
          "output_type": "stream",
          "name": "stderr",
          "text": [
            "<ipython-input-1-d57a6a12a954>:45: FutureWarning: Passing literal html to 'read_html' is deprecated and will be removed in a future version. To read from a literal string, wrap it in a 'StringIO' object.\n",
            "  matches = pd.read_html(team_data.text, match=\"Schedule & Game Results Table\")[0]\n"
          ]
        },
        {
          "output_type": "stream",
          "name": "stdout",
          "text": [
            "Scraping data for HTX (2022)\n"
          ]
        },
        {
          "output_type": "stream",
          "name": "stderr",
          "text": [
            "<ipython-input-1-d57a6a12a954>:45: FutureWarning: Passing literal html to 'read_html' is deprecated and will be removed in a future version. To read from a literal string, wrap it in a 'StringIO' object.\n",
            "  matches = pd.read_html(team_data.text, match=\"Schedule & Game Results Table\")[0]\n"
          ]
        },
        {
          "output_type": "stream",
          "name": "stdout",
          "text": [
            "Scraping data for KAN (2022)\n"
          ]
        },
        {
          "output_type": "stream",
          "name": "stderr",
          "text": [
            "<ipython-input-1-d57a6a12a954>:45: FutureWarning: Passing literal html to 'read_html' is deprecated and will be removed in a future version. To read from a literal string, wrap it in a 'StringIO' object.\n",
            "  matches = pd.read_html(team_data.text, match=\"Schedule & Game Results Table\")[0]\n"
          ]
        },
        {
          "output_type": "stream",
          "name": "stdout",
          "text": [
            "Scraping data for SDG (2022)\n"
          ]
        },
        {
          "output_type": "stream",
          "name": "stderr",
          "text": [
            "<ipython-input-1-d57a6a12a954>:45: FutureWarning: Passing literal html to 'read_html' is deprecated and will be removed in a future version. To read from a literal string, wrap it in a 'StringIO' object.\n",
            "  matches = pd.read_html(team_data.text, match=\"Schedule & Game Results Table\")[0]\n"
          ]
        },
        {
          "output_type": "stream",
          "name": "stdout",
          "text": [
            "Scraping data for RAI (2022)\n"
          ]
        },
        {
          "output_type": "stream",
          "name": "stderr",
          "text": [
            "<ipython-input-1-d57a6a12a954>:45: FutureWarning: Passing literal html to 'read_html' is deprecated and will be removed in a future version. To read from a literal string, wrap it in a 'StringIO' object.\n",
            "  matches = pd.read_html(team_data.text, match=\"Schedule & Game Results Table\")[0]\n"
          ]
        },
        {
          "output_type": "stream",
          "name": "stdout",
          "text": [
            "Scraping data for DEN (2022)\n"
          ]
        },
        {
          "output_type": "stream",
          "name": "stderr",
          "text": [
            "<ipython-input-1-d57a6a12a954>:45: FutureWarning: Passing literal html to 'read_html' is deprecated and will be removed in a future version. To read from a literal string, wrap it in a 'StringIO' object.\n",
            "  matches = pd.read_html(team_data.text, match=\"Schedule & Game Results Table\")[0]\n"
          ]
        },
        {
          "output_type": "stream",
          "name": "stdout",
          "text": [
            "Scraping data for PHI (2022)\n"
          ]
        },
        {
          "output_type": "stream",
          "name": "stderr",
          "text": [
            "<ipython-input-1-d57a6a12a954>:45: FutureWarning: Passing literal html to 'read_html' is deprecated and will be removed in a future version. To read from a literal string, wrap it in a 'StringIO' object.\n",
            "  matches = pd.read_html(team_data.text, match=\"Schedule & Game Results Table\")[0]\n"
          ]
        },
        {
          "output_type": "stream",
          "name": "stdout",
          "text": [
            "Scraping data for DAL (2022)\n"
          ]
        },
        {
          "output_type": "stream",
          "name": "stderr",
          "text": [
            "<ipython-input-1-d57a6a12a954>:45: FutureWarning: Passing literal html to 'read_html' is deprecated and will be removed in a future version. To read from a literal string, wrap it in a 'StringIO' object.\n",
            "  matches = pd.read_html(team_data.text, match=\"Schedule & Game Results Table\")[0]\n"
          ]
        },
        {
          "output_type": "stream",
          "name": "stdout",
          "text": [
            "Scraping data for NYG (2022)\n"
          ]
        },
        {
          "output_type": "stream",
          "name": "stderr",
          "text": [
            "<ipython-input-1-d57a6a12a954>:45: FutureWarning: Passing literal html to 'read_html' is deprecated and will be removed in a future version. To read from a literal string, wrap it in a 'StringIO' object.\n",
            "  matches = pd.read_html(team_data.text, match=\"Schedule & Game Results Table\")[0]\n"
          ]
        },
        {
          "output_type": "stream",
          "name": "stdout",
          "text": [
            "Scraping data for WAS (2022)\n"
          ]
        },
        {
          "output_type": "stream",
          "name": "stderr",
          "text": [
            "<ipython-input-1-d57a6a12a954>:45: FutureWarning: Passing literal html to 'read_html' is deprecated and will be removed in a future version. To read from a literal string, wrap it in a 'StringIO' object.\n",
            "  matches = pd.read_html(team_data.text, match=\"Schedule & Game Results Table\")[0]\n"
          ]
        },
        {
          "output_type": "stream",
          "name": "stdout",
          "text": [
            "Scraping data for MIN (2022)\n"
          ]
        },
        {
          "output_type": "stream",
          "name": "stderr",
          "text": [
            "<ipython-input-1-d57a6a12a954>:45: FutureWarning: Passing literal html to 'read_html' is deprecated and will be removed in a future version. To read from a literal string, wrap it in a 'StringIO' object.\n",
            "  matches = pd.read_html(team_data.text, match=\"Schedule & Game Results Table\")[0]\n"
          ]
        },
        {
          "output_type": "stream",
          "name": "stdout",
          "text": [
            "Scraping data for DET (2022)\n"
          ]
        },
        {
          "output_type": "stream",
          "name": "stderr",
          "text": [
            "<ipython-input-1-d57a6a12a954>:45: FutureWarning: Passing literal html to 'read_html' is deprecated and will be removed in a future version. To read from a literal string, wrap it in a 'StringIO' object.\n",
            "  matches = pd.read_html(team_data.text, match=\"Schedule & Game Results Table\")[0]\n"
          ]
        },
        {
          "output_type": "stream",
          "name": "stdout",
          "text": [
            "Scraping data for GNB (2022)\n"
          ]
        },
        {
          "output_type": "stream",
          "name": "stderr",
          "text": [
            "<ipython-input-1-d57a6a12a954>:45: FutureWarning: Passing literal html to 'read_html' is deprecated and will be removed in a future version. To read from a literal string, wrap it in a 'StringIO' object.\n",
            "  matches = pd.read_html(team_data.text, match=\"Schedule & Game Results Table\")[0]\n"
          ]
        },
        {
          "output_type": "stream",
          "name": "stdout",
          "text": [
            "Scraping data for CHI (2022)\n"
          ]
        },
        {
          "output_type": "stream",
          "name": "stderr",
          "text": [
            "<ipython-input-1-d57a6a12a954>:45: FutureWarning: Passing literal html to 'read_html' is deprecated and will be removed in a future version. To read from a literal string, wrap it in a 'StringIO' object.\n",
            "  matches = pd.read_html(team_data.text, match=\"Schedule & Game Results Table\")[0]\n"
          ]
        },
        {
          "output_type": "stream",
          "name": "stdout",
          "text": [
            "Scraping data for TAM (2022)\n"
          ]
        },
        {
          "output_type": "stream",
          "name": "stderr",
          "text": [
            "<ipython-input-1-d57a6a12a954>:45: FutureWarning: Passing literal html to 'read_html' is deprecated and will be removed in a future version. To read from a literal string, wrap it in a 'StringIO' object.\n",
            "  matches = pd.read_html(team_data.text, match=\"Schedule & Game Results Table\")[0]\n"
          ]
        },
        {
          "output_type": "stream",
          "name": "stdout",
          "text": [
            "Scraping data for CAR (2022)\n"
          ]
        },
        {
          "output_type": "stream",
          "name": "stderr",
          "text": [
            "<ipython-input-1-d57a6a12a954>:45: FutureWarning: Passing literal html to 'read_html' is deprecated and will be removed in a future version. To read from a literal string, wrap it in a 'StringIO' object.\n",
            "  matches = pd.read_html(team_data.text, match=\"Schedule & Game Results Table\")[0]\n"
          ]
        },
        {
          "output_type": "stream",
          "name": "stdout",
          "text": [
            "Scraping data for NOR (2022)\n"
          ]
        },
        {
          "output_type": "stream",
          "name": "stderr",
          "text": [
            "<ipython-input-1-d57a6a12a954>:45: FutureWarning: Passing literal html to 'read_html' is deprecated and will be removed in a future version. To read from a literal string, wrap it in a 'StringIO' object.\n",
            "  matches = pd.read_html(team_data.text, match=\"Schedule & Game Results Table\")[0]\n"
          ]
        },
        {
          "output_type": "stream",
          "name": "stdout",
          "text": [
            "Scraping data for ATL (2022)\n"
          ]
        },
        {
          "output_type": "stream",
          "name": "stderr",
          "text": [
            "<ipython-input-1-d57a6a12a954>:45: FutureWarning: Passing literal html to 'read_html' is deprecated and will be removed in a future version. To read from a literal string, wrap it in a 'StringIO' object.\n",
            "  matches = pd.read_html(team_data.text, match=\"Schedule & Game Results Table\")[0]\n"
          ]
        },
        {
          "output_type": "stream",
          "name": "stdout",
          "text": [
            "Scraping data for SFO (2022)\n"
          ]
        },
        {
          "output_type": "stream",
          "name": "stderr",
          "text": [
            "<ipython-input-1-d57a6a12a954>:45: FutureWarning: Passing literal html to 'read_html' is deprecated and will be removed in a future version. To read from a literal string, wrap it in a 'StringIO' object.\n",
            "  matches = pd.read_html(team_data.text, match=\"Schedule & Game Results Table\")[0]\n"
          ]
        },
        {
          "output_type": "stream",
          "name": "stdout",
          "text": [
            "Scraping data for SEA (2022)\n"
          ]
        },
        {
          "output_type": "stream",
          "name": "stderr",
          "text": [
            "<ipython-input-1-d57a6a12a954>:45: FutureWarning: Passing literal html to 'read_html' is deprecated and will be removed in a future version. To read from a literal string, wrap it in a 'StringIO' object.\n",
            "  matches = pd.read_html(team_data.text, match=\"Schedule & Game Results Table\")[0]\n"
          ]
        },
        {
          "output_type": "stream",
          "name": "stdout",
          "text": [
            "Scraping data for RAM (2022)\n"
          ]
        },
        {
          "output_type": "stream",
          "name": "stderr",
          "text": [
            "<ipython-input-1-d57a6a12a954>:45: FutureWarning: Passing literal html to 'read_html' is deprecated and will be removed in a future version. To read from a literal string, wrap it in a 'StringIO' object.\n",
            "  matches = pd.read_html(team_data.text, match=\"Schedule & Game Results Table\")[0]\n"
          ]
        },
        {
          "output_type": "stream",
          "name": "stdout",
          "text": [
            "Scraping data for CRD (2022)\n"
          ]
        },
        {
          "output_type": "stream",
          "name": "stderr",
          "text": [
            "<ipython-input-1-d57a6a12a954>:45: FutureWarning: Passing literal html to 'read_html' is deprecated and will be removed in a future version. To read from a literal string, wrap it in a 'StringIO' object.\n",
            "  matches = pd.read_html(team_data.text, match=\"Schedule & Game Results Table\")[0]\n"
          ]
        },
        {
          "output_type": "stream",
          "name": "stdout",
          "text": [
            "Fetching data for the 2021 season...\n",
            "Scraping data for BUF (2021)\n"
          ]
        },
        {
          "output_type": "stream",
          "name": "stderr",
          "text": [
            "<ipython-input-1-d57a6a12a954>:45: FutureWarning: Passing literal html to 'read_html' is deprecated and will be removed in a future version. To read from a literal string, wrap it in a 'StringIO' object.\n",
            "  matches = pd.read_html(team_data.text, match=\"Schedule & Game Results Table\")[0]\n"
          ]
        },
        {
          "output_type": "stream",
          "name": "stdout",
          "text": [
            "Scraping data for NWE (2021)\n"
          ]
        },
        {
          "output_type": "stream",
          "name": "stderr",
          "text": [
            "<ipython-input-1-d57a6a12a954>:45: FutureWarning: Passing literal html to 'read_html' is deprecated and will be removed in a future version. To read from a literal string, wrap it in a 'StringIO' object.\n",
            "  matches = pd.read_html(team_data.text, match=\"Schedule & Game Results Table\")[0]\n"
          ]
        },
        {
          "output_type": "stream",
          "name": "stdout",
          "text": [
            "Scraping data for MIA (2021)\n"
          ]
        },
        {
          "output_type": "stream",
          "name": "stderr",
          "text": [
            "<ipython-input-1-d57a6a12a954>:45: FutureWarning: Passing literal html to 'read_html' is deprecated and will be removed in a future version. To read from a literal string, wrap it in a 'StringIO' object.\n",
            "  matches = pd.read_html(team_data.text, match=\"Schedule & Game Results Table\")[0]\n"
          ]
        },
        {
          "output_type": "stream",
          "name": "stdout",
          "text": [
            "Scraping data for NYJ (2021)\n"
          ]
        },
        {
          "output_type": "stream",
          "name": "stderr",
          "text": [
            "<ipython-input-1-d57a6a12a954>:45: FutureWarning: Passing literal html to 'read_html' is deprecated and will be removed in a future version. To read from a literal string, wrap it in a 'StringIO' object.\n",
            "  matches = pd.read_html(team_data.text, match=\"Schedule & Game Results Table\")[0]\n"
          ]
        },
        {
          "output_type": "stream",
          "name": "stdout",
          "text": [
            "Scraping data for CIN (2021)\n"
          ]
        },
        {
          "output_type": "stream",
          "name": "stderr",
          "text": [
            "<ipython-input-1-d57a6a12a954>:45: FutureWarning: Passing literal html to 'read_html' is deprecated and will be removed in a future version. To read from a literal string, wrap it in a 'StringIO' object.\n",
            "  matches = pd.read_html(team_data.text, match=\"Schedule & Game Results Table\")[0]\n"
          ]
        },
        {
          "output_type": "stream",
          "name": "stdout",
          "text": [
            "Scraping data for PIT (2021)\n"
          ]
        },
        {
          "output_type": "stream",
          "name": "stderr",
          "text": [
            "<ipython-input-1-d57a6a12a954>:45: FutureWarning: Passing literal html to 'read_html' is deprecated and will be removed in a future version. To read from a literal string, wrap it in a 'StringIO' object.\n",
            "  matches = pd.read_html(team_data.text, match=\"Schedule & Game Results Table\")[0]\n"
          ]
        },
        {
          "output_type": "stream",
          "name": "stdout",
          "text": [
            "Scraping data for CLE (2021)\n"
          ]
        },
        {
          "output_type": "stream",
          "name": "stderr",
          "text": [
            "<ipython-input-1-d57a6a12a954>:45: FutureWarning: Passing literal html to 'read_html' is deprecated and will be removed in a future version. To read from a literal string, wrap it in a 'StringIO' object.\n",
            "  matches = pd.read_html(team_data.text, match=\"Schedule & Game Results Table\")[0]\n"
          ]
        },
        {
          "output_type": "stream",
          "name": "stdout",
          "text": [
            "Scraping data for RAV (2021)\n"
          ]
        },
        {
          "output_type": "stream",
          "name": "stderr",
          "text": [
            "<ipython-input-1-d57a6a12a954>:45: FutureWarning: Passing literal html to 'read_html' is deprecated and will be removed in a future version. To read from a literal string, wrap it in a 'StringIO' object.\n",
            "  matches = pd.read_html(team_data.text, match=\"Schedule & Game Results Table\")[0]\n"
          ]
        },
        {
          "output_type": "stream",
          "name": "stdout",
          "text": [
            "Scraping data for OTI (2021)\n"
          ]
        },
        {
          "output_type": "stream",
          "name": "stderr",
          "text": [
            "<ipython-input-1-d57a6a12a954>:45: FutureWarning: Passing literal html to 'read_html' is deprecated and will be removed in a future version. To read from a literal string, wrap it in a 'StringIO' object.\n",
            "  matches = pd.read_html(team_data.text, match=\"Schedule & Game Results Table\")[0]\n"
          ]
        },
        {
          "output_type": "stream",
          "name": "stdout",
          "text": [
            "Scraping data for CLT (2021)\n"
          ]
        },
        {
          "output_type": "stream",
          "name": "stderr",
          "text": [
            "<ipython-input-1-d57a6a12a954>:45: FutureWarning: Passing literal html to 'read_html' is deprecated and will be removed in a future version. To read from a literal string, wrap it in a 'StringIO' object.\n",
            "  matches = pd.read_html(team_data.text, match=\"Schedule & Game Results Table\")[0]\n"
          ]
        },
        {
          "output_type": "stream",
          "name": "stdout",
          "text": [
            "Scraping data for HTX (2021)\n"
          ]
        },
        {
          "output_type": "stream",
          "name": "stderr",
          "text": [
            "<ipython-input-1-d57a6a12a954>:45: FutureWarning: Passing literal html to 'read_html' is deprecated and will be removed in a future version. To read from a literal string, wrap it in a 'StringIO' object.\n",
            "  matches = pd.read_html(team_data.text, match=\"Schedule & Game Results Table\")[0]\n"
          ]
        },
        {
          "output_type": "stream",
          "name": "stdout",
          "text": [
            "Scraping data for JAX (2021)\n"
          ]
        },
        {
          "output_type": "stream",
          "name": "stderr",
          "text": [
            "<ipython-input-1-d57a6a12a954>:45: FutureWarning: Passing literal html to 'read_html' is deprecated and will be removed in a future version. To read from a literal string, wrap it in a 'StringIO' object.\n",
            "  matches = pd.read_html(team_data.text, match=\"Schedule & Game Results Table\")[0]\n"
          ]
        },
        {
          "output_type": "stream",
          "name": "stdout",
          "text": [
            "Scraping data for KAN (2021)\n"
          ]
        },
        {
          "output_type": "stream",
          "name": "stderr",
          "text": [
            "<ipython-input-1-d57a6a12a954>:45: FutureWarning: Passing literal html to 'read_html' is deprecated and will be removed in a future version. To read from a literal string, wrap it in a 'StringIO' object.\n",
            "  matches = pd.read_html(team_data.text, match=\"Schedule & Game Results Table\")[0]\n"
          ]
        },
        {
          "output_type": "stream",
          "name": "stdout",
          "text": [
            "Scraping data for RAI (2021)\n"
          ]
        },
        {
          "output_type": "stream",
          "name": "stderr",
          "text": [
            "<ipython-input-1-d57a6a12a954>:45: FutureWarning: Passing literal html to 'read_html' is deprecated and will be removed in a future version. To read from a literal string, wrap it in a 'StringIO' object.\n",
            "  matches = pd.read_html(team_data.text, match=\"Schedule & Game Results Table\")[0]\n"
          ]
        },
        {
          "output_type": "stream",
          "name": "stdout",
          "text": [
            "Scraping data for SDG (2021)\n"
          ]
        },
        {
          "output_type": "stream",
          "name": "stderr",
          "text": [
            "<ipython-input-1-d57a6a12a954>:45: FutureWarning: Passing literal html to 'read_html' is deprecated and will be removed in a future version. To read from a literal string, wrap it in a 'StringIO' object.\n",
            "  matches = pd.read_html(team_data.text, match=\"Schedule & Game Results Table\")[0]\n"
          ]
        },
        {
          "output_type": "stream",
          "name": "stdout",
          "text": [
            "Scraping data for DEN (2021)\n"
          ]
        },
        {
          "output_type": "stream",
          "name": "stderr",
          "text": [
            "<ipython-input-1-d57a6a12a954>:45: FutureWarning: Passing literal html to 'read_html' is deprecated and will be removed in a future version. To read from a literal string, wrap it in a 'StringIO' object.\n",
            "  matches = pd.read_html(team_data.text, match=\"Schedule & Game Results Table\")[0]\n"
          ]
        },
        {
          "output_type": "stream",
          "name": "stdout",
          "text": [
            "Scraping data for DAL (2021)\n"
          ]
        },
        {
          "output_type": "stream",
          "name": "stderr",
          "text": [
            "<ipython-input-1-d57a6a12a954>:45: FutureWarning: Passing literal html to 'read_html' is deprecated and will be removed in a future version. To read from a literal string, wrap it in a 'StringIO' object.\n",
            "  matches = pd.read_html(team_data.text, match=\"Schedule & Game Results Table\")[0]\n"
          ]
        },
        {
          "output_type": "stream",
          "name": "stdout",
          "text": [
            "Scraping data for PHI (2021)\n"
          ]
        },
        {
          "output_type": "stream",
          "name": "stderr",
          "text": [
            "<ipython-input-1-d57a6a12a954>:45: FutureWarning: Passing literal html to 'read_html' is deprecated and will be removed in a future version. To read from a literal string, wrap it in a 'StringIO' object.\n",
            "  matches = pd.read_html(team_data.text, match=\"Schedule & Game Results Table\")[0]\n"
          ]
        },
        {
          "output_type": "stream",
          "name": "stdout",
          "text": [
            "Scraping data for WAS (2021)\n"
          ]
        },
        {
          "output_type": "stream",
          "name": "stderr",
          "text": [
            "<ipython-input-1-d57a6a12a954>:45: FutureWarning: Passing literal html to 'read_html' is deprecated and will be removed in a future version. To read from a literal string, wrap it in a 'StringIO' object.\n",
            "  matches = pd.read_html(team_data.text, match=\"Schedule & Game Results Table\")[0]\n"
          ]
        },
        {
          "output_type": "stream",
          "name": "stdout",
          "text": [
            "Scraping data for NYG (2021)\n"
          ]
        },
        {
          "output_type": "stream",
          "name": "stderr",
          "text": [
            "<ipython-input-1-d57a6a12a954>:45: FutureWarning: Passing literal html to 'read_html' is deprecated and will be removed in a future version. To read from a literal string, wrap it in a 'StringIO' object.\n",
            "  matches = pd.read_html(team_data.text, match=\"Schedule & Game Results Table\")[0]\n"
          ]
        },
        {
          "output_type": "stream",
          "name": "stdout",
          "text": [
            "Scraping data for GNB (2021)\n"
          ]
        },
        {
          "output_type": "stream",
          "name": "stderr",
          "text": [
            "<ipython-input-1-d57a6a12a954>:45: FutureWarning: Passing literal html to 'read_html' is deprecated and will be removed in a future version. To read from a literal string, wrap it in a 'StringIO' object.\n",
            "  matches = pd.read_html(team_data.text, match=\"Schedule & Game Results Table\")[0]\n"
          ]
        },
        {
          "output_type": "stream",
          "name": "stdout",
          "text": [
            "Scraping data for MIN (2021)\n"
          ]
        },
        {
          "output_type": "stream",
          "name": "stderr",
          "text": [
            "<ipython-input-1-d57a6a12a954>:45: FutureWarning: Passing literal html to 'read_html' is deprecated and will be removed in a future version. To read from a literal string, wrap it in a 'StringIO' object.\n",
            "  matches = pd.read_html(team_data.text, match=\"Schedule & Game Results Table\")[0]\n"
          ]
        },
        {
          "output_type": "stream",
          "name": "stdout",
          "text": [
            "Scraping data for CHI (2021)\n"
          ]
        },
        {
          "output_type": "stream",
          "name": "stderr",
          "text": [
            "<ipython-input-1-d57a6a12a954>:45: FutureWarning: Passing literal html to 'read_html' is deprecated and will be removed in a future version. To read from a literal string, wrap it in a 'StringIO' object.\n",
            "  matches = pd.read_html(team_data.text, match=\"Schedule & Game Results Table\")[0]\n"
          ]
        },
        {
          "output_type": "stream",
          "name": "stdout",
          "text": [
            "Scraping data for DET (2021)\n"
          ]
        },
        {
          "output_type": "stream",
          "name": "stderr",
          "text": [
            "<ipython-input-1-d57a6a12a954>:45: FutureWarning: Passing literal html to 'read_html' is deprecated and will be removed in a future version. To read from a literal string, wrap it in a 'StringIO' object.\n",
            "  matches = pd.read_html(team_data.text, match=\"Schedule & Game Results Table\")[0]\n"
          ]
        },
        {
          "output_type": "stream",
          "name": "stdout",
          "text": [
            "Scraping data for TAM (2021)\n"
          ]
        },
        {
          "output_type": "stream",
          "name": "stderr",
          "text": [
            "<ipython-input-1-d57a6a12a954>:45: FutureWarning: Passing literal html to 'read_html' is deprecated and will be removed in a future version. To read from a literal string, wrap it in a 'StringIO' object.\n",
            "  matches = pd.read_html(team_data.text, match=\"Schedule & Game Results Table\")[0]\n"
          ]
        },
        {
          "output_type": "stream",
          "name": "stdout",
          "text": [
            "Scraping data for NOR (2021)\n"
          ]
        },
        {
          "output_type": "stream",
          "name": "stderr",
          "text": [
            "<ipython-input-1-d57a6a12a954>:45: FutureWarning: Passing literal html to 'read_html' is deprecated and will be removed in a future version. To read from a literal string, wrap it in a 'StringIO' object.\n",
            "  matches = pd.read_html(team_data.text, match=\"Schedule & Game Results Table\")[0]\n"
          ]
        },
        {
          "output_type": "stream",
          "name": "stdout",
          "text": [
            "Scraping data for ATL (2021)\n"
          ]
        },
        {
          "output_type": "stream",
          "name": "stderr",
          "text": [
            "<ipython-input-1-d57a6a12a954>:45: FutureWarning: Passing literal html to 'read_html' is deprecated and will be removed in a future version. To read from a literal string, wrap it in a 'StringIO' object.\n",
            "  matches = pd.read_html(team_data.text, match=\"Schedule & Game Results Table\")[0]\n"
          ]
        },
        {
          "output_type": "stream",
          "name": "stdout",
          "text": [
            "Scraping data for CAR (2021)\n"
          ]
        },
        {
          "output_type": "stream",
          "name": "stderr",
          "text": [
            "<ipython-input-1-d57a6a12a954>:45: FutureWarning: Passing literal html to 'read_html' is deprecated and will be removed in a future version. To read from a literal string, wrap it in a 'StringIO' object.\n",
            "  matches = pd.read_html(team_data.text, match=\"Schedule & Game Results Table\")[0]\n"
          ]
        },
        {
          "output_type": "stream",
          "name": "stdout",
          "text": [
            "Scraping data for RAM (2021)\n"
          ]
        },
        {
          "output_type": "stream",
          "name": "stderr",
          "text": [
            "<ipython-input-1-d57a6a12a954>:45: FutureWarning: Passing literal html to 'read_html' is deprecated and will be removed in a future version. To read from a literal string, wrap it in a 'StringIO' object.\n",
            "  matches = pd.read_html(team_data.text, match=\"Schedule & Game Results Table\")[0]\n"
          ]
        },
        {
          "output_type": "stream",
          "name": "stdout",
          "text": [
            "Scraping data for CRD (2021)\n"
          ]
        },
        {
          "output_type": "stream",
          "name": "stderr",
          "text": [
            "<ipython-input-1-d57a6a12a954>:45: FutureWarning: Passing literal html to 'read_html' is deprecated and will be removed in a future version. To read from a literal string, wrap it in a 'StringIO' object.\n",
            "  matches = pd.read_html(team_data.text, match=\"Schedule & Game Results Table\")[0]\n"
          ]
        },
        {
          "output_type": "stream",
          "name": "stdout",
          "text": [
            "Scraping data for SFO (2021)\n"
          ]
        },
        {
          "output_type": "stream",
          "name": "stderr",
          "text": [
            "<ipython-input-1-d57a6a12a954>:45: FutureWarning: Passing literal html to 'read_html' is deprecated and will be removed in a future version. To read from a literal string, wrap it in a 'StringIO' object.\n",
            "  matches = pd.read_html(team_data.text, match=\"Schedule & Game Results Table\")[0]\n"
          ]
        },
        {
          "output_type": "stream",
          "name": "stdout",
          "text": [
            "Scraping data for SEA (2021)\n"
          ]
        },
        {
          "output_type": "stream",
          "name": "stderr",
          "text": [
            "<ipython-input-1-d57a6a12a954>:45: FutureWarning: Passing literal html to 'read_html' is deprecated and will be removed in a future version. To read from a literal string, wrap it in a 'StringIO' object.\n",
            "  matches = pd.read_html(team_data.text, match=\"Schedule & Game Results Table\")[0]\n"
          ]
        },
        {
          "output_type": "stream",
          "name": "stdout",
          "text": [
            "Fetching data for the 2020 season...\n",
            "Scraping data for BUF (2020)\n"
          ]
        },
        {
          "output_type": "stream",
          "name": "stderr",
          "text": [
            "<ipython-input-1-d57a6a12a954>:45: FutureWarning: Passing literal html to 'read_html' is deprecated and will be removed in a future version. To read from a literal string, wrap it in a 'StringIO' object.\n",
            "  matches = pd.read_html(team_data.text, match=\"Schedule & Game Results Table\")[0]\n"
          ]
        },
        {
          "output_type": "stream",
          "name": "stdout",
          "text": [
            "Scraping data for MIA (2020)\n"
          ]
        },
        {
          "output_type": "stream",
          "name": "stderr",
          "text": [
            "<ipython-input-1-d57a6a12a954>:45: FutureWarning: Passing literal html to 'read_html' is deprecated and will be removed in a future version. To read from a literal string, wrap it in a 'StringIO' object.\n",
            "  matches = pd.read_html(team_data.text, match=\"Schedule & Game Results Table\")[0]\n"
          ]
        },
        {
          "output_type": "stream",
          "name": "stdout",
          "text": [
            "Scraping data for NWE (2020)\n"
          ]
        },
        {
          "output_type": "stream",
          "name": "stderr",
          "text": [
            "<ipython-input-1-d57a6a12a954>:45: FutureWarning: Passing literal html to 'read_html' is deprecated and will be removed in a future version. To read from a literal string, wrap it in a 'StringIO' object.\n",
            "  matches = pd.read_html(team_data.text, match=\"Schedule & Game Results Table\")[0]\n"
          ]
        },
        {
          "output_type": "stream",
          "name": "stdout",
          "text": [
            "Scraping data for NYJ (2020)\n"
          ]
        },
        {
          "output_type": "stream",
          "name": "stderr",
          "text": [
            "<ipython-input-1-d57a6a12a954>:45: FutureWarning: Passing literal html to 'read_html' is deprecated and will be removed in a future version. To read from a literal string, wrap it in a 'StringIO' object.\n",
            "  matches = pd.read_html(team_data.text, match=\"Schedule & Game Results Table\")[0]\n"
          ]
        },
        {
          "output_type": "stream",
          "name": "stdout",
          "text": [
            "Scraping data for PIT (2020)\n"
          ]
        },
        {
          "output_type": "stream",
          "name": "stderr",
          "text": [
            "<ipython-input-1-d57a6a12a954>:45: FutureWarning: Passing literal html to 'read_html' is deprecated and will be removed in a future version. To read from a literal string, wrap it in a 'StringIO' object.\n",
            "  matches = pd.read_html(team_data.text, match=\"Schedule & Game Results Table\")[0]\n"
          ]
        },
        {
          "output_type": "stream",
          "name": "stdout",
          "text": [
            "Scraping data for RAV (2020)\n"
          ]
        },
        {
          "output_type": "stream",
          "name": "stderr",
          "text": [
            "<ipython-input-1-d57a6a12a954>:45: FutureWarning: Passing literal html to 'read_html' is deprecated and will be removed in a future version. To read from a literal string, wrap it in a 'StringIO' object.\n",
            "  matches = pd.read_html(team_data.text, match=\"Schedule & Game Results Table\")[0]\n"
          ]
        },
        {
          "output_type": "stream",
          "name": "stdout",
          "text": [
            "Scraping data for CLE (2020)\n"
          ]
        },
        {
          "output_type": "stream",
          "name": "stderr",
          "text": [
            "<ipython-input-1-d57a6a12a954>:45: FutureWarning: Passing literal html to 'read_html' is deprecated and will be removed in a future version. To read from a literal string, wrap it in a 'StringIO' object.\n",
            "  matches = pd.read_html(team_data.text, match=\"Schedule & Game Results Table\")[0]\n"
          ]
        },
        {
          "output_type": "stream",
          "name": "stdout",
          "text": [
            "Scraping data for CIN (2020)\n"
          ]
        },
        {
          "output_type": "stream",
          "name": "stderr",
          "text": [
            "<ipython-input-1-d57a6a12a954>:45: FutureWarning: Passing literal html to 'read_html' is deprecated and will be removed in a future version. To read from a literal string, wrap it in a 'StringIO' object.\n",
            "  matches = pd.read_html(team_data.text, match=\"Schedule & Game Results Table\")[0]\n"
          ]
        },
        {
          "output_type": "stream",
          "name": "stdout",
          "text": [
            "Scraping data for OTI (2020)\n"
          ]
        },
        {
          "output_type": "stream",
          "name": "stderr",
          "text": [
            "<ipython-input-1-d57a6a12a954>:45: FutureWarning: Passing literal html to 'read_html' is deprecated and will be removed in a future version. To read from a literal string, wrap it in a 'StringIO' object.\n",
            "  matches = pd.read_html(team_data.text, match=\"Schedule & Game Results Table\")[0]\n"
          ]
        },
        {
          "output_type": "stream",
          "name": "stdout",
          "text": [
            "Scraping data for CLT (2020)\n"
          ]
        },
        {
          "output_type": "stream",
          "name": "stderr",
          "text": [
            "<ipython-input-1-d57a6a12a954>:45: FutureWarning: Passing literal html to 'read_html' is deprecated and will be removed in a future version. To read from a literal string, wrap it in a 'StringIO' object.\n",
            "  matches = pd.read_html(team_data.text, match=\"Schedule & Game Results Table\")[0]\n"
          ]
        },
        {
          "output_type": "stream",
          "name": "stdout",
          "text": [
            "Scraping data for HTX (2020)\n"
          ]
        },
        {
          "output_type": "stream",
          "name": "stderr",
          "text": [
            "<ipython-input-1-d57a6a12a954>:45: FutureWarning: Passing literal html to 'read_html' is deprecated and will be removed in a future version. To read from a literal string, wrap it in a 'StringIO' object.\n",
            "  matches = pd.read_html(team_data.text, match=\"Schedule & Game Results Table\")[0]\n"
          ]
        },
        {
          "output_type": "stream",
          "name": "stdout",
          "text": [
            "Scraping data for JAX (2020)\n"
          ]
        },
        {
          "output_type": "stream",
          "name": "stderr",
          "text": [
            "<ipython-input-1-d57a6a12a954>:45: FutureWarning: Passing literal html to 'read_html' is deprecated and will be removed in a future version. To read from a literal string, wrap it in a 'StringIO' object.\n",
            "  matches = pd.read_html(team_data.text, match=\"Schedule & Game Results Table\")[0]\n"
          ]
        },
        {
          "output_type": "stream",
          "name": "stdout",
          "text": [
            "Scraping data for KAN (2020)\n"
          ]
        },
        {
          "output_type": "stream",
          "name": "stderr",
          "text": [
            "<ipython-input-1-d57a6a12a954>:45: FutureWarning: Passing literal html to 'read_html' is deprecated and will be removed in a future version. To read from a literal string, wrap it in a 'StringIO' object.\n",
            "  matches = pd.read_html(team_data.text, match=\"Schedule & Game Results Table\")[0]\n"
          ]
        },
        {
          "output_type": "stream",
          "name": "stdout",
          "text": [
            "Scraping data for RAI (2020)\n"
          ]
        },
        {
          "output_type": "stream",
          "name": "stderr",
          "text": [
            "<ipython-input-1-d57a6a12a954>:45: FutureWarning: Passing literal html to 'read_html' is deprecated and will be removed in a future version. To read from a literal string, wrap it in a 'StringIO' object.\n",
            "  matches = pd.read_html(team_data.text, match=\"Schedule & Game Results Table\")[0]\n"
          ]
        },
        {
          "output_type": "stream",
          "name": "stdout",
          "text": [
            "Scraping data for SDG (2020)\n"
          ]
        },
        {
          "output_type": "stream",
          "name": "stderr",
          "text": [
            "<ipython-input-1-d57a6a12a954>:45: FutureWarning: Passing literal html to 'read_html' is deprecated and will be removed in a future version. To read from a literal string, wrap it in a 'StringIO' object.\n",
            "  matches = pd.read_html(team_data.text, match=\"Schedule & Game Results Table\")[0]\n"
          ]
        },
        {
          "output_type": "stream",
          "name": "stdout",
          "text": [
            "Scraping data for DEN (2020)\n"
          ]
        },
        {
          "output_type": "stream",
          "name": "stderr",
          "text": [
            "<ipython-input-1-d57a6a12a954>:45: FutureWarning: Passing literal html to 'read_html' is deprecated and will be removed in a future version. To read from a literal string, wrap it in a 'StringIO' object.\n",
            "  matches = pd.read_html(team_data.text, match=\"Schedule & Game Results Table\")[0]\n"
          ]
        },
        {
          "output_type": "stream",
          "name": "stdout",
          "text": [
            "Scraping data for WAS (2020)\n"
          ]
        },
        {
          "output_type": "stream",
          "name": "stderr",
          "text": [
            "<ipython-input-1-d57a6a12a954>:45: FutureWarning: Passing literal html to 'read_html' is deprecated and will be removed in a future version. To read from a literal string, wrap it in a 'StringIO' object.\n",
            "  matches = pd.read_html(team_data.text, match=\"Schedule & Game Results Table\")[0]\n"
          ]
        },
        {
          "output_type": "stream",
          "name": "stdout",
          "text": [
            "Scraping data for NYG (2020)\n"
          ]
        },
        {
          "output_type": "stream",
          "name": "stderr",
          "text": [
            "<ipython-input-1-d57a6a12a954>:45: FutureWarning: Passing literal html to 'read_html' is deprecated and will be removed in a future version. To read from a literal string, wrap it in a 'StringIO' object.\n",
            "  matches = pd.read_html(team_data.text, match=\"Schedule & Game Results Table\")[0]\n"
          ]
        },
        {
          "output_type": "stream",
          "name": "stdout",
          "text": [
            "Scraping data for DAL (2020)\n"
          ]
        },
        {
          "output_type": "stream",
          "name": "stderr",
          "text": [
            "<ipython-input-1-d57a6a12a954>:45: FutureWarning: Passing literal html to 'read_html' is deprecated and will be removed in a future version. To read from a literal string, wrap it in a 'StringIO' object.\n",
            "  matches = pd.read_html(team_data.text, match=\"Schedule & Game Results Table\")[0]\n"
          ]
        },
        {
          "output_type": "stream",
          "name": "stdout",
          "text": [
            "Scraping data for PHI (2020)\n"
          ]
        },
        {
          "output_type": "stream",
          "name": "stderr",
          "text": [
            "<ipython-input-1-d57a6a12a954>:45: FutureWarning: Passing literal html to 'read_html' is deprecated and will be removed in a future version. To read from a literal string, wrap it in a 'StringIO' object.\n",
            "  matches = pd.read_html(team_data.text, match=\"Schedule & Game Results Table\")[0]\n"
          ]
        },
        {
          "output_type": "stream",
          "name": "stdout",
          "text": [
            "Scraping data for GNB (2020)\n"
          ]
        },
        {
          "output_type": "stream",
          "name": "stderr",
          "text": [
            "<ipython-input-1-d57a6a12a954>:45: FutureWarning: Passing literal html to 'read_html' is deprecated and will be removed in a future version. To read from a literal string, wrap it in a 'StringIO' object.\n",
            "  matches = pd.read_html(team_data.text, match=\"Schedule & Game Results Table\")[0]\n"
          ]
        },
        {
          "output_type": "stream",
          "name": "stdout",
          "text": [
            "Scraping data for CHI (2020)\n"
          ]
        },
        {
          "output_type": "stream",
          "name": "stderr",
          "text": [
            "<ipython-input-1-d57a6a12a954>:45: FutureWarning: Passing literal html to 'read_html' is deprecated and will be removed in a future version. To read from a literal string, wrap it in a 'StringIO' object.\n",
            "  matches = pd.read_html(team_data.text, match=\"Schedule & Game Results Table\")[0]\n"
          ]
        },
        {
          "output_type": "stream",
          "name": "stdout",
          "text": [
            "Scraping data for MIN (2020)\n"
          ]
        },
        {
          "output_type": "stream",
          "name": "stderr",
          "text": [
            "<ipython-input-1-d57a6a12a954>:45: FutureWarning: Passing literal html to 'read_html' is deprecated and will be removed in a future version. To read from a literal string, wrap it in a 'StringIO' object.\n",
            "  matches = pd.read_html(team_data.text, match=\"Schedule & Game Results Table\")[0]\n"
          ]
        },
        {
          "output_type": "stream",
          "name": "stdout",
          "text": [
            "Scraping data for DET (2020)\n"
          ]
        },
        {
          "output_type": "stream",
          "name": "stderr",
          "text": [
            "<ipython-input-1-d57a6a12a954>:45: FutureWarning: Passing literal html to 'read_html' is deprecated and will be removed in a future version. To read from a literal string, wrap it in a 'StringIO' object.\n",
            "  matches = pd.read_html(team_data.text, match=\"Schedule & Game Results Table\")[0]\n"
          ]
        },
        {
          "output_type": "stream",
          "name": "stdout",
          "text": [
            "Scraping data for NOR (2020)\n"
          ]
        },
        {
          "output_type": "stream",
          "name": "stderr",
          "text": [
            "<ipython-input-1-d57a6a12a954>:45: FutureWarning: Passing literal html to 'read_html' is deprecated and will be removed in a future version. To read from a literal string, wrap it in a 'StringIO' object.\n",
            "  matches = pd.read_html(team_data.text, match=\"Schedule & Game Results Table\")[0]\n"
          ]
        },
        {
          "output_type": "stream",
          "name": "stdout",
          "text": [
            "Scraping data for TAM (2020)\n"
          ]
        },
        {
          "output_type": "stream",
          "name": "stderr",
          "text": [
            "<ipython-input-1-d57a6a12a954>:45: FutureWarning: Passing literal html to 'read_html' is deprecated and will be removed in a future version. To read from a literal string, wrap it in a 'StringIO' object.\n",
            "  matches = pd.read_html(team_data.text, match=\"Schedule & Game Results Table\")[0]\n"
          ]
        },
        {
          "output_type": "stream",
          "name": "stdout",
          "text": [
            "Scraping data for CAR (2020)\n"
          ]
        },
        {
          "output_type": "stream",
          "name": "stderr",
          "text": [
            "<ipython-input-1-d57a6a12a954>:45: FutureWarning: Passing literal html to 'read_html' is deprecated and will be removed in a future version. To read from a literal string, wrap it in a 'StringIO' object.\n",
            "  matches = pd.read_html(team_data.text, match=\"Schedule & Game Results Table\")[0]\n"
          ]
        },
        {
          "output_type": "stream",
          "name": "stdout",
          "text": [
            "Scraping data for ATL (2020)\n"
          ]
        },
        {
          "output_type": "stream",
          "name": "stderr",
          "text": [
            "<ipython-input-1-d57a6a12a954>:45: FutureWarning: Passing literal html to 'read_html' is deprecated and will be removed in a future version. To read from a literal string, wrap it in a 'StringIO' object.\n",
            "  matches = pd.read_html(team_data.text, match=\"Schedule & Game Results Table\")[0]\n"
          ]
        },
        {
          "output_type": "stream",
          "name": "stdout",
          "text": [
            "Scraping data for SEA (2020)\n"
          ]
        },
        {
          "output_type": "stream",
          "name": "stderr",
          "text": [
            "<ipython-input-1-d57a6a12a954>:45: FutureWarning: Passing literal html to 'read_html' is deprecated and will be removed in a future version. To read from a literal string, wrap it in a 'StringIO' object.\n",
            "  matches = pd.read_html(team_data.text, match=\"Schedule & Game Results Table\")[0]\n"
          ]
        },
        {
          "output_type": "stream",
          "name": "stdout",
          "text": [
            "Scraping data for RAM (2020)\n"
          ]
        },
        {
          "output_type": "stream",
          "name": "stderr",
          "text": [
            "<ipython-input-1-d57a6a12a954>:45: FutureWarning: Passing literal html to 'read_html' is deprecated and will be removed in a future version. To read from a literal string, wrap it in a 'StringIO' object.\n",
            "  matches = pd.read_html(team_data.text, match=\"Schedule & Game Results Table\")[0]\n"
          ]
        },
        {
          "output_type": "stream",
          "name": "stdout",
          "text": [
            "Scraping data for CRD (2020)\n"
          ]
        },
        {
          "output_type": "stream",
          "name": "stderr",
          "text": [
            "<ipython-input-1-d57a6a12a954>:45: FutureWarning: Passing literal html to 'read_html' is deprecated and will be removed in a future version. To read from a literal string, wrap it in a 'StringIO' object.\n",
            "  matches = pd.read_html(team_data.text, match=\"Schedule & Game Results Table\")[0]\n"
          ]
        },
        {
          "output_type": "stream",
          "name": "stdout",
          "text": [
            "Scraping data for SFO (2020)\n",
            "Data collection complete. Saved to 'nfl_matches_2020_2023.csv'.\n"
          ]
        },
        {
          "output_type": "stream",
          "name": "stderr",
          "text": [
            "<ipython-input-1-d57a6a12a954>:45: FutureWarning: Passing literal html to 'read_html' is deprecated and will be removed in a future version. To read from a literal string, wrap it in a 'StringIO' object.\n",
            "  matches = pd.read_html(team_data.text, match=\"Schedule & Game Results Table\")[0]\n"
          ]
        }
      ],
      "source": [
        "import requests\n",
        "import time\n",
        "import pandas as pd\n",
        "from bs4 import BeautifulSoup\n",
        "\n",
        "years = [2023, 2022, 2021, 2020]  # List of years to scrape\n",
        "all_matches = []\n",
        "\n",
        "for year in years:\n",
        "    standings_url = f\"https://www.pro-football-reference.com/years/{year}/\"\n",
        "    print(f\"Fetching data for the {year} season...\")\n",
        "    time.sleep(2)  # Respectful delay\n",
        "    data = requests.get(standings_url)\n",
        "\n",
        "    if data.status_code != 200:\n",
        "        print(f\"Failed to fetch data for {year}. Status code: {data.status_code}\")\n",
        "        continue\n",
        "\n",
        "    soup = BeautifulSoup(data.text, \"html.parser\")\n",
        "    afc_table = soup.find(\"table\", {\"id\": \"AFC\"})\n",
        "    nfc_table = soup.find(\"table\", {\"id\": \"NFC\"})\n",
        "\n",
        "    if not afc_table or not nfc_table:\n",
        "        print(f\"Could not find AFC or NFC tables for {year}. Skipping...\")\n",
        "        continue\n",
        "\n",
        "    afc_links = afc_table.find_all('a')\n",
        "    nfc_links = nfc_table.find_all('a')\n",
        "    links = afc_links + nfc_links\n",
        "    links = [l.get(\"href\") for l in links]\n",
        "    links = [l for l in links if \"/teams/\" in l]\n",
        "    team_urls = [f\"https://www.pro-football-reference.com{l}\" for l in links]\n",
        "\n",
        "    for team_url in team_urls:\n",
        "        team_name = team_url.split(\"/\")[4].upper()\n",
        "        print(f\"Scraping data for {team_name} ({year})\")\n",
        "        time.sleep(2)  # Delay to prevent hitting rate limits\n",
        "\n",
        "        team_data = requests.get(team_url)\n",
        "        if team_data.status_code != 200:\n",
        "            print(f\"Failed to fetch team data for {team_name}. Status code: {team_data.status_code}\")\n",
        "            continue\n",
        "\n",
        "        try:\n",
        "            matches = pd.read_html(team_data.text, match=\"Schedule & Game Results Table\")[0]\n",
        "            matches.columns = matches.columns.droplevel()\n",
        "        except (ValueError, KeyError):\n",
        "            print(f\"Could not find schedule table for {team_name} in {year}. Skipping...\")\n",
        "            continue\n",
        "\n",
        "        # Columns to drop, excluding 'Date'\n",
        "        columns_to_drop = ['Day', 'Unnamed: 3_level_1', 'Unnamed: 4_level_1', '1stD', 'PassY', 'RushY', 'Offense', 'Defense', 'Sp. Tms']\n",
        "        for column in columns_to_drop:\n",
        "            try:\n",
        "                matches = matches.drop(columns=[column])\n",
        "            except KeyError:\n",
        "                print(f\"Column '{column}' not found in DataFrame. Skipping...\")\n",
        "\n",
        "        # Rename columns for clarity\n",
        "        matches.columns.values[6] = 'Opponent'\n",
        "        matches = matches.rename(columns={\n",
        "            \"Unnamed: 5_level_1\": \"Result\",\n",
        "            \"Unnamed: 8_level_1\": \"Home/Away\",\n",
        "            \"Tm\": \"PF\",\n",
        "            \"Opp\": \"PA\"\n",
        "        })\n",
        "        matches.columns.values[9] = 'Off: TotYd'\n",
        "        matches.columns.values[10] = 'Off: TO'\n",
        "        matches.columns.values[11] = 'Def: TotYd'\n",
        "        matches.columns.values[12] = 'Def: TO'\n",
        "\n",
        "        # Replace values in the 'Home/Away' column\n",
        "        matches['Home/Away'] = matches['Home/Away'].replace(\"@\", \"Away\").fillna(\"Home\")\n",
        "\n",
        "        # Add zeros for zero turnovers\n",
        "        matches['Off: TO'] = matches['Off: TO'].fillna(0)\n",
        "        matches['Def: TO'] = matches['Def: TO'].fillna(0)\n",
        "\n",
        "        # Split team name and year into separate columns\n",
        "        matches.insert(0, \"Team\", team_name)\n",
        "        matches.insert(1, \"Year\", year)\n",
        "\n",
        "        matches['Date'] = matches['Date'] + ' ' + str(year)\n",
        "        matches['Date'] = pd.to_datetime(matches['Date'], format='%B %d %Y', errors='coerce')\n",
        "        matches['Date'] = matches['Date'].dt.strftime('%m/%d/%Y')  # Optional: format as MM/DD/YYYY\n",
        "\n",
        "        # Check for rows marked as canceled and filter them out based on a broader set of criteria.\n",
        "        matches = matches[~matches.apply(lambda row: 'Canceled' in row.values, axis=1)]\n",
        "\n",
        "        # Append to the all_matches list\n",
        "        all_matches.append(matches)\n",
        "\n",
        "# Combine all collected data into a single DataFrame and save to CSV\n",
        "match_df = pd.concat(all_matches, ignore_index=True)\n",
        "match_df.to_csv(\"nfl_matches_2020_2023.csv\", index=False)\n",
        "print(\"Data collection complete. Saved to 'nfl_matches_2020_2023.csv'.\")\n"
      ]
    },
    {
      "cell_type": "code",
      "source": [
        "import pandas as pd\n",
        "matches = pd.read_csv('nfl_matches_2020_2023.csv')\n",
        "matches[\"H/A_code\"] = matches[\"Home/Away\"].astype(\"category\").cat.codes\n",
        "matches[\"Opp_code\"] = matches[\"Opponent\"].astype(\"category\").cat.codes\n",
        "matches[\"Result_code\"] = (matches[\"Result\"] == \"W\").astype(\"int\")\n",
        "\n",
        "from sklearn.ensemble import RandomForestClassifier\n",
        "rf = RandomForestClassifier(n_estimators=50, min_samples_split=10, random_state=1)\n",
        "train = matches[matches[\"Year\"] <= 2022]\n",
        "test = matches[matches[\"Year\"] == 2023]\n",
        "predictors = [\"H/A_code\", \"Opp_code\"]\n",
        "rf.fit(train[predictors], train[\"Result_code\"])\n",
        "RandomForestClassifier(min_samples_split=10, n_estimators=50, random_state=1)\n",
        "preds = rf.predict(test[predictors])\n",
        "from sklearn.metrics import accuracy_score\n",
        "acc = accuracy_score(test[\"Result_code\"], preds)\n",
        "combined = pd.DataFrame(dict(actual=test[\"Result_code\"], predicted=preds))\n",
        "pd.crosstab(index=combined[\"actual\"], columns=combined[\"predicted\"])\n",
        "from sklearn.metrics import precision_score\n",
        "precision_score(test[\"Result_code\"], preds)\n",
        "\n",
        "def rolling_averages(group, cols, new_cols):\n",
        "    rolling_stats = group[cols].rolling(3, closed='left').mean()\n",
        "    group[new_cols] = rolling_stats\n",
        "    group = group.dropna(subset=new_cols)\n",
        "    return group\n",
        "\n",
        "cols = [\"PF\", \"PA\", \"Off: TotYd\", \"Off: TO\", \"Def: TotYd\", \"Def: TO\"]\n",
        "new_cols = [f\"{c}_rolling\" for c in cols]\n",
        "\n",
        "matches_rolling = matches.groupby([\"Team\", \"Year\"]).apply(lambda x: rolling_averages(x, cols, new_cols))\n",
        "matches_rolling = matches_rolling.droplevel('Team')\n",
        "matches_rolling.index = range(matches_rolling.shape[0])\n",
        "matches_rolling.to_csv(\"rolling_avg_data.csv\", index=False)\n",
        "\n",
        "def make_predictions(data, predictors):\n",
        "    train = data[data[\"Year\"] <= 2022]\n",
        "    test = data[data[\"Year\"] == 2023]\n",
        "    rf.fit(train[predictors], train[\"Result_code\"])\n",
        "    preds = rf.predict(test[predictors])\n",
        "    combined = pd.DataFrame(dict(actual=test[\"Result_code\"], predicted=preds), index=test.index)\n",
        "    precision = precision_score(test[\"Result_code\"], preds)\n",
        "    return combined, precision\n",
        "\n",
        "combined, precision = make_predictions(matches_rolling, predictors + new_cols)\n",
        "combined = combined.merge(matches_rolling[[\"Team\", \"Opponent\", \"Year\", \"Date\", \"Result\"]], left_index=True, right_index=True)\n",
        "\n",
        "\n",
        "class MissingDict(dict):\n",
        "    __missing__ = lambda self, key: key\n",
        "\n",
        "map_values = {\n",
        "    \"CRD\": \"Arizona Cardinals\",\n",
        "    \"ATL\": \"Atlanta Falcons\",\n",
        "    \"BAL\": \"Baltimore Ravens\",\n",
        "    \"BUF\": \"Buffalo Bills\",\n",
        "    \"CAR\": \"Carolina Panthers\",\n",
        "    \"CHI\": \"Chicago Bears\",\n",
        "    \"CIN\": \"Cincinnati Bengals\",\n",
        "    \"CLE\": \"Cleveland Browns\",\n",
        "    \"DAL\": \"Dallas Cowboys\",\n",
        "    \"DEN\": \"Denver Broncos\",\n",
        "    \"DET\": \"Detroit Lions\",\n",
        "    \"GNB\": \"Green Bay Packers\",\n",
        "    \"HTX\": \"Houston Texans\",\n",
        "    \"IND\": \"Indianapolis Colts\",\n",
        "    \"JAX\": \"Jacksonville Jaguars\",\n",
        "    \"KAN\": \"Kansas City Chiefs\",\n",
        "    \"LAC\": \"Los Angeles Chargers\",\n",
        "    \"LAR\": \"Los Angeles Rams\",\n",
        "    \"MIA\": \"Miami Dolphins\",\n",
        "    \"MIN\": \"Minnesota Vikings\",\n",
        "    \"NWE\": \"New England Patriots\",\n",
        "    \"NOR\": \"New Orleans Saints\",\n",
        "    \"NYG\": \"New York Giants\",\n",
        "    \"NYJ\": \"New York Jets\",\n",
        "    \"OAK\": \"Oakland Raiders\",\n",
        "    \"PHI\": \"Philadelphia Eagles\",\n",
        "    \"PIT\": \"Pittsburgh Steelers\",\n",
        "    \"SFO\": \"San Francisco 49ers\",\n",
        "    \"SEA\": \"Seattle Seahawks\",\n",
        "    \"TAM\": \"Tampa Bay Buccaneers\",\n",
        "    \"TEN\": \"Tennessee Titans\",\n",
        "    \"WAS\": \"Washington Football Team\"\n",
        "}\n",
        "mapping = MissingDict(**map_values)\n",
        "combined[\"New_team\"] = combined[\"Team\"].map(mapping)\n",
        "merged = combined.merge(combined, left_on=[\"Date\", \"New_team\"], right_on=[\"Date\", \"Opponent\"])\n",
        "merged[(merged[\"predicted_x\"] == 1) & (merged[\"predicted_y\"] == 0)][\"actual_x\"].value_counts()\n"
      ],
      "metadata": {
        "colab": {
          "base_uri": "https://localhost:8080/",
          "height": 234
        },
        "id": "sg3sPsVEXSwK",
        "outputId": "3027d393-ffab-446c-a612-8d46d31e0c8b"
      },
      "execution_count": 6,
      "outputs": [
        {
          "output_type": "stream",
          "name": "stderr",
          "text": [
            "<ipython-input-6-9cd866e9ed6a>:31: DeprecationWarning: DataFrameGroupBy.apply operated on the grouping columns. This behavior is deprecated, and in a future version of pandas the grouping columns will be excluded from the operation. Either pass `include_groups=False` to exclude the groupings or explicitly select the grouping columns after groupby to silence this warning.\n",
            "  matches_rolling = matches.groupby([\"Team\", \"Year\"]).apply(lambda x: rolling_averages(x, cols, new_cols))\n"
          ]
        },
        {
          "output_type": "execute_result",
          "data": {
            "text/plain": [
              "actual_x\n",
              "1    28\n",
              "0    27\n",
              "Name: count, dtype: int64"
            ],
            "text/html": [
              "<div>\n",
              "<style scoped>\n",
              "    .dataframe tbody tr th:only-of-type {\n",
              "        vertical-align: middle;\n",
              "    }\n",
              "\n",
              "    .dataframe tbody tr th {\n",
              "        vertical-align: top;\n",
              "    }\n",
              "\n",
              "    .dataframe thead th {\n",
              "        text-align: right;\n",
              "    }\n",
              "</style>\n",
              "<table border=\"1\" class=\"dataframe\">\n",
              "  <thead>\n",
              "    <tr style=\"text-align: right;\">\n",
              "      <th></th>\n",
              "      <th>count</th>\n",
              "    </tr>\n",
              "    <tr>\n",
              "      <th>actual_x</th>\n",
              "      <th></th>\n",
              "    </tr>\n",
              "  </thead>\n",
              "  <tbody>\n",
              "    <tr>\n",
              "      <th>1</th>\n",
              "      <td>28</td>\n",
              "    </tr>\n",
              "    <tr>\n",
              "      <th>0</th>\n",
              "      <td>27</td>\n",
              "    </tr>\n",
              "  </tbody>\n",
              "</table>\n",
              "</div><br><label><b>dtype:</b> int64</label>"
            ]
          },
          "metadata": {},
          "execution_count": 6
        }
      ]
    }
  ]
}